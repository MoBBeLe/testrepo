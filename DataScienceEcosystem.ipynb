{
 "cells": [
  {
   "cell_type": "markdown",
   "id": "84d64c7f-f54f-4011-a9d7-70ca6cbbacef",
   "metadata": {},
   "source": [
    "# Data Science Tools and Ecosystem"
   ]
  },
  {
   "cell_type": "markdown",
   "id": "8490f682-44ee-4cac-9292-61d6711f9a9b",
   "metadata": {},
   "source": [
    "In this notebook, Data Science Tools and Ecosystem are summarized."
   ]
  },
  {
   "cell_type": "markdown",
   "id": "0630606f-d219-43a3-82a4-d70afa409806",
   "metadata": {},
   "source": [
    "Some of the popular languages that Data Scientists use are:\n",
    "1. Español \n",
    "2. Ingles \n",
    "3. Frances"
   ]
  },
  {
   "cell_type": "markdown",
   "id": "152d1c0f-3e76-416d-baef-df4aa256b7bb",
   "metadata": {},
   "source": [
    "Some of the commonly used libraries used by Data Scientists include:\n",
    "* NumPy\n",
    "* Pandas\n",
    "* Seaborn"
   ]
  },
  {
   "cell_type": "markdown",
   "id": "e8be3518-a87e-49fd-aa5e-4afd7fd5632d",
   "metadata": {},
   "source": [
    "| Data Science Tools |\n",
    "| ------------------ |\n",
    "| Phyton |\n",
    "| R |\n",
    "| Jupyternotebook |"
   ]
  },
  {
   "cell_type": "markdown",
   "id": "f1d40a92-28d1-45af-9822-23d507049f84",
   "metadata": {},
   "source": [
    "### Below are a few examples of evaluating arithmetic expressions in Python"
   ]
  },
  {
   "cell_type": "markdown",
   "id": "1802637d-2038-4a0d-8814-e5312909fc2a",
   "metadata": {},
   "source": [
    "This a simple arithmetic expression to mutiply then add integers"
   ]
  },
  {
   "cell_type": "code",
   "execution_count": 9,
   "id": "be84355d-f091-4f66-84aa-b05fec962af8",
   "metadata": {},
   "outputs": [
    {
     "data": {
      "text/plain": [
       "17"
      ]
     },
     "execution_count": 9,
     "metadata": {},
     "output_type": "execute_result"
    }
   ],
   "source": [
    "(3*4)+5"
   ]
  },
  {
   "cell_type": "markdown",
   "id": "d4ae53e2-65ea-4dfc-a9d8-f801dcaeea78",
   "metadata": {},
   "source": [
    "This will convert 200 minutes to hours by diving by 60"
   ]
  },
  {
   "cell_type": "code",
   "execution_count": 12,
   "id": "44d9e51e-0bc4-43cd-9862-566fc1eacdb7",
   "metadata": {},
   "outputs": [
    {
     "data": {
      "text/plain": [
       "3.3333333333333335"
      ]
     },
     "execution_count": 12,
     "metadata": {},
     "output_type": "execute_result"
    }
   ],
   "source": [
    "200/60"
   ]
  },
  {
   "cell_type": "markdown",
   "id": "024de95f-c0fc-4d61-952b-337de43f7627",
   "metadata": {},
   "source": [
    "**Objectives:**"
   ]
  },
  {
   "cell_type": "markdown",
   "id": "86ed848d-f225-419c-b849-567b67f0300d",
   "metadata": {},
   "source": [
    "* List popular languages for Data Science"
   ]
  },
  {
   "cell_type": "markdown",
   "id": "b72d1013-fbf3-47d0-a077-c8cf6027413c",
   "metadata": {},
   "source": []
  },
  {
   "cell_type": "markdown",
   "id": "6fc5e75a-7867-4dcf-8e80-d067a0208580",
   "metadata": {},
   "source": [
    "## Laura Moreno"
   ]
  },
  {
   "cell_type": "code",
   "execution_count": null,
   "id": "098c98a5-5f0b-4aaa-8c31-2cefb18d0848",
   "metadata": {},
   "outputs": [],
   "source": []
  }
 ],
 "metadata": {
  "kernelspec": {
   "display_name": "Python 3 (ipykernel)",
   "language": "python",
   "name": "python3"
  },
  "language_info": {
   "codemirror_mode": {
    "name": "ipython",
    "version": 3
   },
   "file_extension": ".py",
   "mimetype": "text/x-python",
   "name": "python",
   "nbconvert_exporter": "python",
   "pygments_lexer": "ipython3",
   "version": "3.11.7"
  }
 },
 "nbformat": 4,
 "nbformat_minor": 5
}
